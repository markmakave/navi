{
 "cells": [
  {
   "cell_type": "code",
   "execution_count": null,
   "metadata": {},
   "outputs": [],
   "source": [
    "import torch\n",
    "import torchvision\n",
    "import matplotlib.pyplot as plt\n",
    "from tqdm import tqdm"
   ]
  },
  {
   "cell_type": "code",
   "execution_count": null,
   "metadata": {},
   "outputs": [],
   "source": [
    "mnist = torchvision.datasets.MNIST(\"./data\", download=True, transform=torchvision.transforms.Compose([torchvision.transforms.ToTensor()]))"
   ]
  },
  {
   "cell_type": "code",
   "execution_count": null,
   "metadata": {},
   "outputs": [],
   "source": [
    "dataloader = torch.utils.data.DataLoader(\n",
    "    mnist, \n",
    "    batch_size=1, \n",
    "    shuffle=True\n",
    ")"
   ]
  },
  {
   "cell_type": "code",
   "execution_count": null,
   "metadata": {},
   "outputs": [],
   "source": [
    "class NN(torch.nn.Module):\n",
    "    def __init__(self):\n",
    "        super().__init__()\n",
    "        \n",
    "        flatten = torch.nn.Flatten()\n",
    "        l1 = torch.nn.Linear(28*28, 100)\n",
    "        l2 = torch.nn.Linear(100, 10)\n",
    "        activation = torch.nn.ReLU()\n",
    "\n",
    "        self.model = torch.nn.Sequential(flatten, l1, activation, l2)\n",
    "\n",
    "    def forward(self, x):\n",
    "        return self.model(x)\n",
    "    \n"
   ]
  },
  {
   "cell_type": "code",
   "execution_count": null,
   "metadata": {},
   "outputs": [],
   "source": [
    "model = NN()"
   ]
  },
  {
   "cell_type": "code",
   "execution_count": null,
   "metadata": {},
   "outputs": [],
   "source": [
    "loss = torch.nn.CrossEntropyLoss()\n",
    "optimizer = torch.optim.SGD(model.parameters(), lr=0.001, momentum=0.9)"
   ]
  },
  {
   "cell_type": "code",
   "execution_count": 31,
   "metadata": {},
   "outputs": [
    {
     "name": "stderr",
     "output_type": "stream",
     "text": [
      " 30%|██▉       | 17837/60000 [01:25<03:38, 193.34it/s]"
     ]
    }
   ],
   "source": [
    "for epoch in range(10):\n",
    "    total_error = 0\n",
    "    for img, label in tqdm(dataloader):\n",
    "        optimizer.zero_grad()\n",
    "\n",
    "        label = torch.nn.functional.one_hot(label, 10).float()\n",
    "        pred = model(img)\n",
    "\n",
    "        error = loss(pred, label)\n",
    "        error.backward()\n",
    "        total_error += error.item()\n",
    "\n",
    "        optimizer.step()\n",
    "\n",
    "    print(\"Error:\", total_error)"
   ]
  }
 ],
 "metadata": {
  "kernelspec": {
   "display_name": "Python 3",
   "language": "python",
   "name": "python3"
  },
  "language_info": {
   "codemirror_mode": {
    "name": "ipython",
    "version": 3
   },
   "file_extension": ".py",
   "mimetype": "text/x-python",
   "name": "python",
   "nbconvert_exporter": "python",
   "pygments_lexer": "ipython3",
   "version": "3.6.9"
  },
  "orig_nbformat": 4
 },
 "nbformat": 4,
 "nbformat_minor": 2
}
